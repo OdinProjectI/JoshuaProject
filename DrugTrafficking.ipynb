{
 "cells": [
  {
   "cell_type": "markdown",
   "id": "529b526a-7429-4668-9d15-5c9b0efbadfc",
   "metadata": {},
   "source": [
    "# **Drug Trafficking (2008 - 2011) Study Case**\n",
    "<img src=\"./images/sof_insignia.png\" width=\"350px\">"
   ]
  },
  {
   "cell_type": "code",
   "execution_count": 25,
   "id": "dc365e83-9f66-4dad-8b8d-c37f9be34d9a",
   "metadata": {},
   "outputs": [],
   "source": [
    "import pandas as pd \n",
    "import numpy as np \n",
    "import json\n",
    "import pymysql \n",
    "import sqlite3 \n",
    "import os \n",
    "import boto3 \n",
    "import warnings \n",
    "from sqlalchemy import create_engine\n",
    "import gc \n",
    "import seaborn \n",
    "import matplotlib.pyplot as plt \n",
    "\n",
    "from typing import List, Dict \n",
    "\n",
    "warnings.filterwarnings('ignore')\n",
    "plt.style.use('ggplot')"
   ]
  },
  {
   "cell_type": "markdown",
   "id": "3b1a3e87-7ba4-4aa9-b5e9-94c041c452d5",
   "metadata": {},
   "source": [
    "# **Helper Function**\n",
    "## **To MySQL** "
   ]
  },
  {
   "cell_type": "code",
   "execution_count": 3,
   "id": "7212bf35-e00b-462d-ba84-625286f907dc",
   "metadata": {},
   "outputs": [],
   "source": [
    "def to_mysql(backend_engine: 'PyMsql', dir_path: str ):\n",
    "    \"\"\"\n",
    "    Description\n",
    "    -----------\n",
    "        - Helper function to convert the CDE dataset into MySQL DB for further query\n",
    "\n",
    "    Parameter\n",
    "    ---------\n",
    "        - backend_engine: a valid SQLAlchemy backend engine \n",
    "        - dir_path: a valid CDE path \n",
    "\n",
    "    Return\n",
    "    ------\n",
    "        - None \n",
    "    \"\"\"\n",
    "\n",
    "    if not os.path.exists(dir_path):\n",
    "        raise FileNotFoundError(f\"[ ERROR ] Unable to find the following CDE dataset path {dir_path}\")\n",
    "\n",
    "    try:\n",
    "        \n",
    "        for csv_file in os.listdir(dir_path):\n",
    "            if \"csv\" in csv_file:\n",
    "                tbl_name: str = csv_file.replace(\".csv\", \"\").strip()\n",
    "                pd.read_csv(os.path.join(dir_path, csv_file) ).to_sql(tbl_name, con=backend_engine, if_exists='append' )\n",
    "\n",
    "    except ConnectionError as e: \n",
    "        \n",
    "        raise ConnectionError(\"[ ERROR ] The program has encountered the following error message. Please check your SQL connection !!!.\") from e "
   ]
  },
  {
   "cell_type": "markdown",
   "id": "b86158e5-dc69-471a-a6af-a92d715b68f4",
   "metadata": {},
   "source": [
    "## **MySQL Cursor** "
   ]
  },
  {
   "cell_type": "code",
   "execution_count": 4,
   "id": "f5fe445b-a5a9-4ec8-99e4-f495093c2eaa",
   "metadata": {},
   "outputs": [],
   "source": [
    "con: 'MySQL' = pymysql.connect(user=\"root\", passwd=\"admin123\", host=\"127.0.0.1\")\n",
    "cursor = con.cursor() \n",
    "\n",
    "secrets: 'SecretsManager' = boto3.client(\"secretsmanager\")\n",
    "sql_arg: str = json.loads(secrets.get_secret_value(SecretId=\"afghan_project\").get(\"SecretString\")).get(\"sql_args\")"
   ]
  },
  {
   "cell_type": "markdown",
   "id": "eb2966c4-d3d1-4ed4-8ad2-10a7b5cad05a",
   "metadata": {},
   "source": [
    "## **Populate TX DB with Crimes Incidents between `2008 - 2011`**"
   ]
  },
  {
   "cell_type": "code",
   "execution_count": 50,
   "id": "f5e8ea6c-6f2f-4923-81b0-7035f1ee0381",
   "metadata": {},
   "outputs": [],
   "source": [
    "engine: 'pymysql' = create_engine(\"%s%s\" % (sql_arg, \"TX_2008\") )\n",
    "to_mysql(backend_engine=engine, dir_path=\"/tmp/TX/2008/\")\n",
    "\n",
    "engine: 'pymysql' = create_engine(\"%s%s\" % (sql_arg, \"TX_2009\") )\n",
    "to_mysql(backend_engine=engine, dir_path=\"/tmp/TX/2009/\")\n",
    "\n",
    "engine: 'pymysql' = create_engine(\"%s%s\" % (sql_arg, \"TX_2010\") )\n",
    "to_mysql(backend_engine=engine, dir_path=\"/tmp/TX/2010/\")\n",
    "\n",
    "engine: 'pymysql' = create_engine(\"%s%s\" % (sql_arg, \"TX_2011\") )\n",
    "to_mysql(backend_engine=engine, dir_path=\"/tmp/TX/2011/\")"
   ]
  },
  {
   "cell_type": "code",
   "execution_count": 11,
   "id": "80e9dda0-8787-4d5e-b225-a4b503bb06fb",
   "metadata": {},
   "outputs": [],
   "source": [
    "engine: 'pymysql' = create_engine(\"%s%s\" % (sql_arg, \"TX_2011\") )\n",
    "to_mysql(backend_engine=engine, dir_path=\"/tmp/TX/2011/\")"
   ]
  },
  {
   "cell_type": "markdown",
   "id": "9d2603d2-1083-4482-95e0-96e26bbd3910",
   "metadata": {},
   "source": [
    "## **Populate Arizona DB with Crimes Incidents between `2008 - 2011`**"
   ]
  },
  {
   "cell_type": "code",
   "execution_count": 9,
   "id": "1d4e5e51-97ef-43ca-8e0f-4250d454c0e9",
   "metadata": {},
   "outputs": [],
   "source": [
    "engine: 'pymysql' = create_engine(\"%s%s\" % (sql_arg, \"AZ_2008\") )\n",
    "to_mysql(backend_engine=engine, dir_path=\"/tmp/AZ/2008/\")\n",
    "\n",
    "engine: 'pymysql' = create_engine(\"%s%s\" % (sql_arg, \"AZ_2009\") )\n",
    "to_mysql(backend_engine=engine, dir_path=\"/tmp/AZ/2009/\")\n",
    "\n",
    "engine: 'pymysql' = create_engine(\"%s%s\" % (sql_arg, \"AZ_2010\") )\n",
    "to_mysql(backend_engine=engine, dir_path=\"/tmp/AZ/2010/\")\n",
    "\n",
    "engine: 'pymysql' = create_engine(\"%s%s\" % (sql_arg, \"AZ_2011\") )\n",
    "to_mysql(backend_engine=engine, dir_path=\"/tmp/AZ/2011/\")"
   ]
  },
  {
   "cell_type": "markdown",
   "id": "d3755043-c8ad-4c19-86de-d71f5d385e26",
   "metadata": {},
   "source": [
    "## **Index Table for All the Crimes in Az and Tx between `2008 - 2011`**\n",
    "<img src=\"images/heroin_routes.png\" width=\"1100px\">"
   ]
  },
  {
   "cell_type": "code",
   "execution_count": 26,
   "id": "8bfbb322-42f4-43a9-b394-c1e36345d50d",
   "metadata": {},
   "outputs": [],
   "source": [
    "cde_events: Dict = dict(pd.read_sql(\"SHOW DATABASES\", con=con)['Database'].apply(lambda row: row if 'AZ' in row or 'TX' in row else np.nan ).dropna().apply(lambda row:  (row, \"%s%s\" % (sql_arg, row) ) ).tolist() )"
   ]
  },
  {
   "cell_type": "markdown",
   "id": "6ef8aceb-a976-44f3-b001-549023642813",
   "metadata": {},
   "source": [
    "# **References** \n",
    "1. https://www.justice.gov/archive/ndic/pubs44/44849/44849p.pdf"
   ]
  }
 ],
 "metadata": {
  "kernelspec": {
   "display_name": "Python 3 (ipykernel)",
   "language": "python",
   "name": "python3"
  },
  "language_info": {
   "codemirror_mode": {
    "name": "ipython",
    "version": 3
   },
   "file_extension": ".py",
   "mimetype": "text/x-python",
   "name": "python",
   "nbconvert_exporter": "python",
   "pygments_lexer": "ipython3",
   "version": "3.10.12"
  }
 },
 "nbformat": 4,
 "nbformat_minor": 5
}
